{
 "cells": [
  {
   "cell_type": "markdown",
   "metadata": {},
   "source": [
    "ExistDB and REST experiment\n",
    "22 dec 2019; RHD\n",
    "\n",
    "Prerequisities: Anaconda Python (version 2019-10), Jupyter Lab (1.1.14)\n",
    "\n",
    "We are going to use:\n",
    "Server:\n",
    "ExistDB 5.1.1\n",
    "\n",
    "Client:\n",
    "Python 3\n",
    "The Requests library\n",
    "\n"
   ]
  }
 ],
 "metadata": {
  "kernelspec": {
   "display_name": "Python 3",
   "language": "python",
   "name": "python3"
  },
  "language_info": {
   "codemirror_mode": {
    "name": "ipython",
    "version": 3
   },
   "file_extension": ".py",
   "mimetype": "text/x-python",
   "name": "python",
   "nbconvert_exporter": "python",
   "pygments_lexer": "ipython3",
   "version": "3.7.4"
  }
 },
 "nbformat": 4,
 "nbformat_minor": 4
}
