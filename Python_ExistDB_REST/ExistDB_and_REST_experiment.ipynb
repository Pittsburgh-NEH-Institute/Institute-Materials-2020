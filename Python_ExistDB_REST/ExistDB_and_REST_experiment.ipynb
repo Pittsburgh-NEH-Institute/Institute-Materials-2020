{
 "cells": [
  {
   "cell_type": "markdown",
   "metadata": {},
   "source": [
    "ExistDB and REST experiment\n",
    "22 dec 2019; RHD\n",
    "\n",
    "Prerequisities: Anaconda Python (version 2019-10), Jupyter Lab (1.1.14)\n",
    "\n",
    "We are going to use:\n",
    "Server:\n",
    "ExistDB 5.1.1\n",
    "\n",
    "Client:\n",
    "Python 3\n",
    "The Requests library\n",
    "\n",
    "Goals are:\n",
    "- to use Jupyer Notebooks for teaching purposes.\n",
    "- Call eXistDB from the Notebook using Python.\n",
    "- Use a REST like way, so that the tutorials aren't much different from how an enduser would access the edition.\n",
    "\n",
    "Start eXistdb and load the vict_hoax dataset using the Java Admin Client."
   ]
  },
  {
   "cell_type": "code",
   "execution_count": 2,
   "metadata": {},
   "outputs": [],
   "source": [
    "import requests"
   ]
  },
  {
   "cell_type": "code",
   "execution_count": null,
   "metadata": {},
   "outputs": [],
   "source": [
    "# list all the collections (as an XML response)"
   ]
  },
  {
   "cell_type": "code",
   "execution_count": 6,
   "metadata": {},
   "outputs": [
    {
     "data": {
      "text/plain": [
       "'application/xml; charset=UTF-8'"
      ]
     },
     "execution_count": 6,
     "metadata": {},
     "output_type": "execute_result"
    }
   ],
   "source": [
    "r = requests.get('http://localhost:8080/exist/rest/db/apps/')\n",
    "r.status_code\n",
    "r.headers['content-type']"
   ]
  },
  {
   "cell_type": "code",
   "execution_count": 7,
   "metadata": {},
   "outputs": [
    {
     "data": {
      "text/plain": [
       "'<exist:result xmlns:exist=\"http://exist.sourceforge.net/NS/exist\">\\n    <exist:collection name=\"/db/apps\" created=\"2019-12-16T10:54:29.84+01:00\" owner=\"SYSTEM\" group=\"dba\" permissions=\"rwxr-xr-x\">\\n        <exist:collection name=\"packageservice\" created=\"2019-12-16T10:54:29.841+01:00\" owner=\"packageservice\" group=\"packageservice\" permissions=\"rwxrwxr-x\"/>\\n        <exist:collection name=\"dashboard\" created=\"2019-12-16T10:54:32.008+01:00\" owner=\"SYSTEM\" group=\"dba\" permissions=\"rwxr-xr-x\"/>\\n        <exist:collection name=\"shared-resources\" created=\"2019-12-16T10:54:33.429+01:00\" owner=\"admin\" group=\"dba\" permissions=\"rwxrwxr-x\"/>\\n        <exist:collection name=\"eXide\" created=\"2019-12-16T10:54:34.135+01:00\" owner=\"eXide\" group=\"eXide\" permissions=\"rwxrwxr-x\"/>\\n        <exist:collection name=\"markdown\" created=\"2019-12-16T10:54:37.058+01:00\" owner=\"SYSTEM\" group=\"dba\" permissions=\"rwxr-xr-x\"/>\\n        <exist:collection name=\"fundocs\" created=\"2019-12-16T10:54:37.316+01:00\" owner=\"SYSTEM\" group=\"dba\" permissions=\"rwxr-xr-x\"/>\\n        <exist:collection name=\"monex\" created=\"2019-12-16T10:54:37.628+01:00\" owner=\"monex\" group=\"monex\" permissions=\"rwxrwxr-x\"/>\\n        <exist:collection name=\"doc\" created=\"2019-12-16T11:21:06.704+01:00\" owner=\"admin\" group=\"dba\" permissions=\"rwxr-xr-x\"/>\\n        <exist:collection name=\"shakespeare\" created=\"2019-12-16T11:25:43.69+01:00\" owner=\"admin\" group=\"dba\" permissions=\"rwxr-xr-x\"/>\\n        <exist:collection name=\"hoax\" created=\"2019-12-22T18:00:59.891+01:00\" owner=\"admin\" group=\"dba\" permissions=\"rwxr-xr-x\"/>\\n    </exist:collection>\\n</exist:result>'"
      ]
     },
     "execution_count": 7,
     "metadata": {},
     "output_type": "execute_result"
    }
   ],
   "source": [
    "r.text"
   ]
  },
  {
   "cell_type": "code",
   "execution_count": null,
   "metadata": {},
   "outputs": [],
   "source": []
  }
 ],
 "metadata": {
  "kernelspec": {
   "display_name": "Python 3",
   "language": "python",
   "name": "python3"
  },
  "language_info": {
   "codemirror_mode": {
    "name": "ipython",
    "version": 3
   },
   "file_extension": ".py",
   "mimetype": "text/x-python",
   "name": "python",
   "nbconvert_exporter": "python",
   "pygments_lexer": "ipython3",
   "version": "3.7.4"
  }
 },
 "nbformat": 4,
 "nbformat_minor": 4
}
