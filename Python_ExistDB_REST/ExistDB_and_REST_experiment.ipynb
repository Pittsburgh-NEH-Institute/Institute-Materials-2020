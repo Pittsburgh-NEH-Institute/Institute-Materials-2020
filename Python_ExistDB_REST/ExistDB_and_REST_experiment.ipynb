{
 "cells": [
  {
   "cell_type": "markdown",
   "metadata": {},
   "source": [
    "ExistDB and REST experiment\n",
    "22 dec 2019; RHD\n",
    "\n",
    "Prerequisities: Anaconda Python (version 2019-10), Jupyter Lab (1.1.14)\n",
    "\n",
    "We are going to use:\n",
    "Server:\n",
    "ExistDB 5.1.1\n",
    "\n",
    "Client:\n",
    "Python 3\n",
    "The Requests library\n",
    "\n",
    "Goals are:\n",
    "- to use Jupyer Notebooks for teaching purposes.\n",
    "- Call eXistDB from the Notebook using Python.\n",
    "- Use a REST like way, so that the tutorials aren't much different from how an enduser would access the edition.\n",
    "\n",
    "Start eXistdb and load the vict_hoax dataset using the Java Admin Client."
   ]
  },
  {
   "cell_type": "code",
   "execution_count": 2,
   "metadata": {},
   "outputs": [],
   "source": [
    "import requests"
   ]
  },
  {
   "cell_type": "code",
   "execution_count": null,
   "metadata": {},
   "outputs": [],
   "source": [
    "# list all the collections (as an XML response)"
   ]
  },
  {
   "cell_type": "code",
   "execution_count": 6,
   "metadata": {},
   "outputs": [
    {
     "data": {
      "text/plain": [
       "'application/xml; charset=UTF-8'"
      ]
     },
     "execution_count": 6,
     "metadata": {},
     "output_type": "execute_result"
    }
   ],
   "source": [
    "r = requests.get('http://localhost:8080/exist/rest/db/apps/')\n",
    "r.status_code\n",
    "r.headers['content-type']"
   ]
  },
  {
   "cell_type": "code",
   "execution_count": 7,
   "metadata": {},
   "outputs": [
    {
     "data": {
      "text/plain": [
       "'<exist:result xmlns:exist=\"http://exist.sourceforge.net/NS/exist\">\\n    <exist:collection name=\"/db/apps\" created=\"2019-12-16T10:54:29.84+01:00\" owner=\"SYSTEM\" group=\"dba\" permissions=\"rwxr-xr-x\">\\n        <exist:collection name=\"packageservice\" created=\"2019-12-16T10:54:29.841+01:00\" owner=\"packageservice\" group=\"packageservice\" permissions=\"rwxrwxr-x\"/>\\n        <exist:collection name=\"dashboard\" created=\"2019-12-16T10:54:32.008+01:00\" owner=\"SYSTEM\" group=\"dba\" permissions=\"rwxr-xr-x\"/>\\n        <exist:collection name=\"shared-resources\" created=\"2019-12-16T10:54:33.429+01:00\" owner=\"admin\" group=\"dba\" permissions=\"rwxrwxr-x\"/>\\n        <exist:collection name=\"eXide\" created=\"2019-12-16T10:54:34.135+01:00\" owner=\"eXide\" group=\"eXide\" permissions=\"rwxrwxr-x\"/>\\n        <exist:collection name=\"markdown\" created=\"2019-12-16T10:54:37.058+01:00\" owner=\"SYSTEM\" group=\"dba\" permissions=\"rwxr-xr-x\"/>\\n        <exist:collection name=\"fundocs\" created=\"2019-12-16T10:54:37.316+01:00\" owner=\"SYSTEM\" group=\"dba\" permissions=\"rwxr-xr-x\"/>\\n        <exist:collection name=\"monex\" created=\"2019-12-16T10:54:37.628+01:00\" owner=\"monex\" group=\"monex\" permissions=\"rwxrwxr-x\"/>\\n        <exist:collection name=\"doc\" created=\"2019-12-16T11:21:06.704+01:00\" owner=\"admin\" group=\"dba\" permissions=\"rwxr-xr-x\"/>\\n        <exist:collection name=\"shakespeare\" created=\"2019-12-16T11:25:43.69+01:00\" owner=\"admin\" group=\"dba\" permissions=\"rwxr-xr-x\"/>\\n        <exist:collection name=\"hoax\" created=\"2019-12-22T18:00:59.891+01:00\" owner=\"admin\" group=\"dba\" permissions=\"rwxr-xr-x\"/>\\n    </exist:collection>\\n</exist:result>'"
      ]
     },
     "execution_count": 7,
     "metadata": {},
     "output_type": "execute_result"
    }
   ],
   "source": [
    "r.text"
   ]
  },
  {
   "cell_type": "code",
   "execution_count": 16,
   "metadata": {},
   "outputs": [
    {
     "data": {
      "text/plain": [
       "b'<exist:result xmlns:exist=\"http://exist.sourceforge.net/NS/exist\">\\n    <exist:collection name=\"/db/apps\" created=\"2019-12-16T10:54:29.84+01:00\" owner=\"SYSTEM\" group=\"dba\" permissions=\"rwxr-xr-x\">\\n        <exist:collection name=\"packageservice\" created=\"2019-12-16T10:54:29.841+01:00\" owner=\"packageservice\" group=\"packageservice\" permissions=\"rwxrwxr-x\"/>\\n        <exist:collection name=\"dashboard\" created=\"2019-12-16T10:54:32.008+01:00\" owner=\"SYSTEM\" group=\"dba\" permissions=\"rwxr-xr-x\"/>\\n        <exist:collection name=\"shared-resources\" created=\"2019-12-16T10:54:33.429+01:00\" owner=\"admin\" group=\"dba\" permissions=\"rwxrwxr-x\"/>\\n        <exist:collection name=\"eXide\" created=\"2019-12-16T10:54:34.135+01:00\" owner=\"eXide\" group=\"eXide\" permissions=\"rwxrwxr-x\"/>\\n        <exist:collection name=\"markdown\" created=\"2019-12-16T10:54:37.058+01:00\" owner=\"SYSTEM\" group=\"dba\" permissions=\"rwxr-xr-x\"/>\\n        <exist:collection name=\"fundocs\" created=\"2019-12-16T10:54:37.316+01:00\" owner=\"SYSTEM\" group=\"dba\" permissions=\"rwxr-xr-x\"/>\\n        <exist:collection name=\"monex\" created=\"2019-12-16T10:54:37.628+01:00\" owner=\"monex\" group=\"monex\" permissions=\"rwxrwxr-x\"/>\\n        <exist:collection name=\"doc\" created=\"2019-12-16T11:21:06.704+01:00\" owner=\"admin\" group=\"dba\" permissions=\"rwxr-xr-x\"/>\\n        <exist:collection name=\"shakespeare\" created=\"2019-12-16T11:25:43.69+01:00\" owner=\"admin\" group=\"dba\" permissions=\"rwxr-xr-x\"/>\\n        <exist:collection name=\"hoax\" created=\"2019-12-22T18:00:59.891+01:00\" owner=\"admin\" group=\"dba\" permissions=\"rwxr-xr-x\"/>\\n    </exist:collection>\\n</exist:result>'"
      ]
     },
     "execution_count": 16,
     "metadata": {},
     "output_type": "execute_result"
    }
   ],
   "source": [
    "import pandas as pd\n",
    "from lxml import etree\n",
    "\n",
    "xml = r.text\n",
    "root = etree.fromstring(xml)\n",
    "tree = etree.ElementTree(root)\n",
    "# parser = etree.XMLParser(remove_blank_text=True) # lxml.etree only!\n",
    "# tree = etree.XML(data, parser)\n",
    "etree.tostring(tree)\n",
    "\n",
    "\n"
   ]
  },
  {
   "cell_type": "code",
   "execution_count": 17,
   "metadata": {},
   "outputs": [
    {
     "data": {
      "text/html": [
       "<div>\n",
       "<style scoped>\n",
       "    .dataframe tbody tr th:only-of-type {\n",
       "        vertical-align: middle;\n",
       "    }\n",
       "\n",
       "    .dataframe tbody tr th {\n",
       "        vertical-align: top;\n",
       "    }\n",
       "\n",
       "    .dataframe thead th {\n",
       "        text-align: right;\n",
       "    }\n",
       "</style>\n",
       "<table border=\"1\" class=\"dataframe\">\n",
       "  <thead>\n",
       "    <tr style=\"text-align: right;\">\n",
       "      <th></th>\n",
       "      <th>key</th>\n",
       "      <th>value</th>\n",
       "    </tr>\n",
       "  </thead>\n",
       "  <tbody>\n",
       "    <tr>\n",
       "      <td>0</td>\n",
       "      <td>exist:result</td>\n",
       "      <td>\\n</td>\n",
       "    </tr>\n",
       "    <tr>\n",
       "      <td>1</td>\n",
       "      <td>exist:result.exist:collection</td>\n",
       "      <td>\\n</td>\n",
       "    </tr>\n",
       "    <tr>\n",
       "      <td>11</td>\n",
       "      <td>exist:result.exist:collection.exist:collection...</td>\n",
       "      <td>None</td>\n",
       "    </tr>\n",
       "    <tr>\n",
       "      <td>2</td>\n",
       "      <td>exist:result.exist:collection.exist:collection[1]</td>\n",
       "      <td>None</td>\n",
       "    </tr>\n",
       "    <tr>\n",
       "      <td>3</td>\n",
       "      <td>exist:result.exist:collection.exist:collection[2]</td>\n",
       "      <td>None</td>\n",
       "    </tr>\n",
       "    <tr>\n",
       "      <td>4</td>\n",
       "      <td>exist:result.exist:collection.exist:collection[3]</td>\n",
       "      <td>None</td>\n",
       "    </tr>\n",
       "    <tr>\n",
       "      <td>5</td>\n",
       "      <td>exist:result.exist:collection.exist:collection[4]</td>\n",
       "      <td>None</td>\n",
       "    </tr>\n",
       "    <tr>\n",
       "      <td>6</td>\n",
       "      <td>exist:result.exist:collection.exist:collection[5]</td>\n",
       "      <td>None</td>\n",
       "    </tr>\n",
       "    <tr>\n",
       "      <td>7</td>\n",
       "      <td>exist:result.exist:collection.exist:collection[6]</td>\n",
       "      <td>None</td>\n",
       "    </tr>\n",
       "    <tr>\n",
       "      <td>8</td>\n",
       "      <td>exist:result.exist:collection.exist:collection[7]</td>\n",
       "      <td>None</td>\n",
       "    </tr>\n",
       "    <tr>\n",
       "      <td>9</td>\n",
       "      <td>exist:result.exist:collection.exist:collection[8]</td>\n",
       "      <td>None</td>\n",
       "    </tr>\n",
       "    <tr>\n",
       "      <td>10</td>\n",
       "      <td>exist:result.exist:collection.exist:collection[9]</td>\n",
       "      <td>None</td>\n",
       "    </tr>\n",
       "  </tbody>\n",
       "</table>\n",
       "</div>"
      ],
      "text/plain": [
       "                                                  key       value\n",
       "0                                        exist:result      \\n    \n",
       "1                       exist:result.exist:collection  \\n        \n",
       "11  exist:result.exist:collection.exist:collection...        None\n",
       "2   exist:result.exist:collection.exist:collection[1]        None\n",
       "3   exist:result.exist:collection.exist:collection[2]        None\n",
       "4   exist:result.exist:collection.exist:collection[3]        None\n",
       "5   exist:result.exist:collection.exist:collection[4]        None\n",
       "6   exist:result.exist:collection.exist:collection[5]        None\n",
       "7   exist:result.exist:collection.exist:collection[6]        None\n",
       "8   exist:result.exist:collection.exist:collection[7]        None\n",
       "9   exist:result.exist:collection.exist:collection[8]        None\n",
       "10  exist:result.exist:collection.exist:collection[9]        None"
      ]
     },
     "execution_count": 17,
     "metadata": {},
     "output_type": "execute_result"
    }
   ],
   "source": [
    "lstKey = []\n",
    "lstValue = []\n",
    "for p in tree.iter() :\n",
    "    lstKey.append(tree.getpath(p).replace(\"/\",\".\")[1:])\n",
    "    lstValue.append(p.text)\n",
    "\n",
    "df = pd.DataFrame({'key' : lstKey, 'value' : lstValue})\n",
    "df.sort_values('key')"
   ]
  },
  {
   "cell_type": "code",
   "execution_count": null,
   "metadata": {},
   "outputs": [],
   "source": []
  }
 ],
 "metadata": {
  "kernelspec": {
   "display_name": "Python 3",
   "language": "python",
   "name": "python3"
  },
  "language_info": {
   "codemirror_mode": {
    "name": "ipython",
    "version": 3
   },
   "file_extension": ".py",
   "mimetype": "text/x-python",
   "name": "python",
   "nbconvert_exporter": "python",
   "pygments_lexer": "ipython3",
   "version": "3.7.4"
  }
 },
 "nbformat": 4,
 "nbformat_minor": 4
}
