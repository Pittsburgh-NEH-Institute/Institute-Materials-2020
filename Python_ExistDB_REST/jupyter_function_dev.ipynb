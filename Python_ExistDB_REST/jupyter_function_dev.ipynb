{
 "cells": [
  {
   "cell_type": "code",
   "execution_count": 4,
   "metadata": {},
   "outputs": [],
   "source": [
    "# This cell defines a Python function that can be used in subsequent cells to send requests to eXist-db\n",
    "\n",
    "import requests\n",
    "from pygments import highlight\n",
    "from pygments.lexers import XQueryLexer\n",
    "from pygments.formatters import HtmlFormatter\n",
    "from IPython.core.display import display, HTML\n",
    "import regex\n",
    "\n",
    "# Send the query to eXist-db, serializing the results using a standard output method (default: adaptive)\n",
    "# Standard serialization methods: html, json, xml, adaptive, text\n",
    "# The html output method is rendered as HTML; for others, syntax highlighting is applied\n",
    "def run_xquery(query, output_method='adaptive'):\n",
    "  url = 'http://localhost:8080/exist/apps/atom-editor/execute'\n",
    "  parameters = {\n",
    "    'qu': query,\n",
    "    'output': output_method\n",
    "  }\n",
    "  r = requests.post(url, data = parameters)\n",
    "  if r.status_code == 400: # serialization error\n",
    "    print(regex.findall(r'(?<=<message>).*(?=\\[)', r.text, regex.S)[0])\n",
    "  elif r.status_code == 500: # syntax error in query input\n",
    "    display(HTML(r.text))\n",
    "  elif output_method == 'html':\n",
    "    display(HTML(r.text))\n",
    "  else:\n",
    "    display(HTML('<style>{pygments_css}</style>'.format(pygments_css=HtmlFormatter().get_style_defs('.highlight'))))\n",
    "    display(HTML(data=highlight(r.text, XQueryLexer(), HtmlFormatter())))\n",
    "\n",
    "# If syntax highlighting ever slows down results, replace with:\n",
    "#    print(r.text)"
   ]
  },
  {
   "cell_type": "code",
   "execution_count": 7,
   "metadata": {},
   "outputs": [],
   "source": [
    "qu = \"\"\"\n",
    "attribute a {\"x\"} x\n",
    "\"\"\""
   ]
  },
  {
   "cell_type": "code",
   "execution_count": 8,
   "metadata": {},
   "outputs": [
    {
     "data": {
      "text/html": [
       "<html><head><title>XQueryServlet Error</title><link rel=\"stylesheet\" type=\"text/css\" href=\"error.css\"></link></head><body><h1>Error found</h1>\n",
       "<div class='message'><b>Message: </b>Error</div><div class='description'><pre>Cannot compile xquery: exerr:ERROR org.exist.xquery.XPathException: err:XPST0003 unexpected token: x [at line 2, column 19]\n",
       "</pre></div></body></html>"
      ],
      "text/plain": [
       "<IPython.core.display.HTML object>"
      ]
     },
     "metadata": {},
     "output_type": "display_data"
    }
   ],
   "source": [
    "run_xquery(qu, 'xml')"
   ]
  },
  {
   "cell_type": "code",
   "execution_count": null,
   "metadata": {},
   "outputs": [],
   "source": []
  },
  {
   "cell_type": "code",
   "execution_count": null,
   "metadata": {},
   "outputs": [],
   "source": []
  }
 ],
 "metadata": {
  "kernelspec": {
   "display_name": "Python 3",
   "language": "python",
   "name": "python3"
  },
  "language_info": {
   "codemirror_mode": {
    "name": "ipython",
    "version": 3
   },
   "file_extension": ".py",
   "mimetype": "text/x-python",
   "name": "python",
   "nbconvert_exporter": "python",
   "pygments_lexer": "ipython3",
   "version": "3.7.3"
  }
 },
 "nbformat": 4,
 "nbformat_minor": 2
}
