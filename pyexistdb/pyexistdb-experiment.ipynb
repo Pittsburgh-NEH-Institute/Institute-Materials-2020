{
 "cells": [
  {
   "cell_type": "code",
   "execution_count": 1,
   "metadata": {},
   "outputs": [
    {
     "name": "stderr",
     "output_type": "stream",
     "text": [
      "WARNING: yacc table file version is out of date\n"
     ]
    }
   ],
   "source": [
    "import pyexistdb.db"
   ]
  },
  {
   "cell_type": "code",
   "execution_count": 7,
   "metadata": {},
   "outputs": [],
   "source": [
    "test = pyexistdb.db.ExistDB(server_url = 'http://localhost:8080/exist/xmlrpc')"
   ]
  },
  {
   "cell_type": "code",
   "execution_count": 8,
   "metadata": {},
   "outputs": [
    {
     "name": "stdout",
     "output_type": "stream",
     "text": [
      "<pyexistdb.db.ExistDB object at 0x7fe2b1956a20>\n"
     ]
    }
   ],
   "source": [
    "print(test)"
   ]
  },
  {
   "cell_type": "code",
   "execution_count": 14,
   "metadata": {},
   "outputs": [
    {
     "data": {
      "text/plain": [
       "{'owner': 'demo',\n",
       " 'collections': ['addresses', 'binary', 'i18n'],\n",
       " 'documents': [{'name': 'r_and_j.xml',\n",
       "   'owner': 'demo',\n",
       "   'type': 'XMLResource',\n",
       "   'permissions': 509,\n",
       "   'group': 'demo'},\n",
       "  {'name': 'mondial.xml',\n",
       "   'owner': 'demo',\n",
       "   'type': 'XMLResource',\n",
       "   'permissions': 509,\n",
       "   'group': 'demo'},\n",
       "  {'name': 'macbeth.xml',\n",
       "   'owner': 'demo',\n",
       "   'type': 'XMLResource',\n",
       "   'permissions': 509,\n",
       "   'group': 'demo'},\n",
       "  {'name': 'hamlet.xml',\n",
       "   'owner': 'demo',\n",
       "   'type': 'XMLResource',\n",
       "   'permissions': 509,\n",
       "   'group': 'demo'},\n",
       "  {'name': 'shakes.xsl',\n",
       "   'owner': 'demo',\n",
       "   'type': 'XMLResource',\n",
       "   'permissions': 509,\n",
       "   'group': 'demo'}],\n",
       " 'created': '1576494179903',\n",
       " 'permissions': 509,\n",
       " 'name': '/db/apps/demo/data',\n",
       " 'group': 'demo'}"
      ]
     },
     "execution_count": 14,
     "metadata": {},
     "output_type": "execute_result"
    }
   ],
   "source": [
    "test.getCollectionDescription('apps/demo/data')"
   ]
  },
  {
   "cell_type": "code",
   "execution_count": 19,
   "metadata": {},
   "outputs": [
    {
     "data": {
      "text/plain": [
       "['DEFAULT_TIMEOUT',\n",
       " '__class__',\n",
       " '__delattr__',\n",
       " '__dict__',\n",
       " '__dir__',\n",
       " '__doc__',\n",
       " '__eq__',\n",
       " '__format__',\n",
       " '__ge__',\n",
       " '__getattribute__',\n",
       " '__gt__',\n",
       " '__hash__',\n",
       " '__init__',\n",
       " '__init_subclass__',\n",
       " '__le__',\n",
       " '__lt__',\n",
       " '__module__',\n",
       " '__ne__',\n",
       " '__new__',\n",
       " '__reduce__',\n",
       " '__reduce_ex__',\n",
       " '__repr__',\n",
       " '__setattr__',\n",
       " '__sizeof__',\n",
       " '__str__',\n",
       " '__subclasshook__',\n",
       " '__weakref__',\n",
       " '_collectionIndexPath',\n",
       " '_configCollectionName',\n",
       " '_init_from_xmlrpc_url',\n",
       " '_serverurl_from_djangoconf',\n",
       " 'createCollection',\n",
       " 'create_account',\n",
       " 'create_group',\n",
       " 'describeDocument',\n",
       " 'encoding',\n",
       " 'executeQuery',\n",
       " 'exist_url',\n",
       " 'getCollectionDescription',\n",
       " 'getDoc',\n",
       " 'getDocument',\n",
       " 'getHits',\n",
       " 'getPermissions',\n",
       " 'hasCollection',\n",
       " 'hasCollectionIndex',\n",
       " 'hasDocument',\n",
       " 'load',\n",
       " 'loadCollectionIndex',\n",
       " 'moveDocument',\n",
       " 'password',\n",
       " 'query',\n",
       " 'querySummary',\n",
       " 'reindexCollection',\n",
       " 'releaseQueryResult',\n",
       " 'removeCollection',\n",
       " 'removeCollectionIndex',\n",
       " 'removeDocument',\n",
       " 'restapi_path',\n",
       " 'resultType',\n",
       " 'retrieve',\n",
       " 'retrieve_text',\n",
       " 'server',\n",
       " 'session',\n",
       " 'session_opts',\n",
       " 'setPermissions',\n",
       " 'username']"
      ]
     },
     "execution_count": 19,
     "metadata": {},
     "output_type": "execute_result"
    }
   ],
   "source": []
  },
  {
   "cell_type": "code",
   "execution_count": null,
   "metadata": {},
   "outputs": [],
   "source": []
  }
 ],
 "metadata": {
  "kernelspec": {
   "display_name": "Python 3",
   "language": "python",
   "name": "python3"
  },
  "language_info": {
   "codemirror_mode": {
    "name": "ipython",
    "version": 3
   },
   "file_extension": ".py",
   "mimetype": "text/x-python",
   "name": "python",
   "nbconvert_exporter": "python",
   "pygments_lexer": "ipython3",
   "version": "3.7.3"
  }
 },
 "nbformat": 4,
 "nbformat_minor": 2
}
