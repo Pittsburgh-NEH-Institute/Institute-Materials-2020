{
 "cells": [
  {
   "cell_type": "markdown",
   "metadata": {},
   "source": [
    "# XML-RPC connection with *pyexistdb*\n",
    "\n",
    "2019-12-21 djb\n",
    "\n",
    "## Notes\n",
    "\n",
    "* This tutorial assumes that you have installed and launched eXist-db and installed the Demo Apps. We run it on our local\n",
    "machine, but you can use any running eXist-db instance that has the app files.\n",
    "* We focus on browsing collections, reading files, and executing queries. We do not write into the database\n",
    "(and therefore do not authenticate).\n",
    "* We will use REST, rather than XML-RPC, for the NEH Institute."
   ]
  },
  {
   "cell_type": "markdown",
   "metadata": {},
   "source": [
    "## Import the library\n",
    "\n",
    "Importing the pacakge with `import pyexistdb` does not expose the `db` module, so we import it directly.\n",
    "\n",
    "The import sometimes (!) raises an error (“yacc table file version is out of date”). We ignore this because\n",
    "we don’t understand it."
   ]
  },
  {
   "cell_type": "code",
   "execution_count": 1,
   "metadata": {},
   "outputs": [],
   "source": [
    "from pyexistdb.db import ExistDB"
   ]
  },
  {
   "cell_type": "markdown",
   "metadata": {},
   "source": [
    "## Create a connection and verify that it works\n",
    "\n",
    "From the docs: “Construction doesn't initiate server communication, only store\n",
    "information about where the server is, to be used in later\n",
    "communications.”"
   ]
  },
  {
   "cell_type": "code",
   "execution_count": 2,
   "metadata": {},
   "outputs": [
    {
     "name": "stdout",
     "output_type": "stream",
     "text": [
      "<pyexistdb.db.ExistDB object at 0x7ffd6847c4a8>\n"
     ]
    }
   ],
   "source": [
    "test = ExistDB(server_url = 'http://localhost:8080/exist')\n",
    "print(test)"
   ]
  },
  {
   "cell_type": "markdown",
   "metadata": {},
   "source": [
    "## Look at the XML data files in a collection\n",
    "\n",
    "This assumes that you have installed the *eXist-db Demo Apps* from the eXist-db repo. You can do this from the\n",
    "package manager if you are using an eXist-db instance where you have dba privileges. If not, you can browse any\n",
    "collection to which you have access.\n",
    "\n",
    "The connection is at */db/*, so paths are relative to that."
   ]
  },
  {
   "cell_type": "code",
   "execution_count": 3,
   "metadata": {},
   "outputs": [
    {
     "data": {
      "text/plain": [
       "{'owner': 'demo',\n",
       " 'collections': ['addresses', 'binary', 'i18n'],\n",
       " 'documents': [{'name': 'r_and_j.xml',\n",
       "   'owner': 'demo',\n",
       "   'type': 'XMLResource',\n",
       "   'permissions': 509,\n",
       "   'group': 'demo'},\n",
       "  {'name': 'mondial.xml',\n",
       "   'owner': 'demo',\n",
       "   'type': 'XMLResource',\n",
       "   'permissions': 509,\n",
       "   'group': 'demo'},\n",
       "  {'name': 'macbeth.xml',\n",
       "   'owner': 'demo',\n",
       "   'type': 'XMLResource',\n",
       "   'permissions': 509,\n",
       "   'group': 'demo'},\n",
       "  {'name': 'hamlet.xml',\n",
       "   'owner': 'demo',\n",
       "   'type': 'XMLResource',\n",
       "   'permissions': 509,\n",
       "   'group': 'demo'},\n",
       "  {'name': 'shakes.xsl',\n",
       "   'owner': 'demo',\n",
       "   'type': 'XMLResource',\n",
       "   'permissions': 509,\n",
       "   'group': 'demo'}],\n",
       " 'created': '1576494179903',\n",
       " 'permissions': 509,\n",
       " 'name': '/db/apps/demo/data',\n",
       " 'group': 'demo'}"
      ]
     },
     "execution_count": 3,
     "metadata": {},
     "output_type": "execute_result"
    }
   ],
   "source": [
    "test.getCollectionDescription('apps/demo/data')"
   ]
  },
  {
   "cell_type": "markdown",
   "metadata": {},
   "source": [
    "## What can pyexistdb do?"
   ]
  },
  {
   "cell_type": "code",
   "execution_count": 4,
   "metadata": {},
   "outputs": [
    {
     "name": "stdout",
     "output_type": "stream",
     "text": [
      "Help on class ExistDB in module pyexistdb.db:\n",
      "\n",
      "class ExistDB(builtins.object)\n",
      " |  ExistDB(server_url=None, username=None, password=None, resultType=None, encoding='UTF-8', verbose=False, keep_alive=None, timeout=<object object at 0x7ffd68374790>)\n",
      " |  \n",
      " |  Connect to an eXist database, and manipulate and query it.\n",
      " |  \n",
      " |  Construction doesn't initiate server communication, only store\n",
      " |  information about where the server is, to be used in later\n",
      " |  communications.\n",
      " |  \n",
      " |  :param server_url: The eXist server URL.  New syntax (as of 0.20)\n",
      " |      expects primary eXist url and *not* the ``/xmlrpc`` endpoint;\n",
      " |      for backwards compatibility, urls that include `/xmlrpc``\n",
      " |      are still handled, and will be parsed to set exist server path\n",
      " |      as well as username and password if specified.  Note that username\n",
      " |      and password parameters take precedence over username\n",
      " |      and password in the server url if both are specified.\n",
      " |  :param username: exist username, if any\n",
      " |  :param password: exist user password, if any\n",
      " |  :param resultType: The class to use for returning :meth:`query` results;\n",
      " |                     defaults to :class:`QueryResult`\n",
      " |  :param encoding:   The encoding used to communicate with the server;\n",
      " |                     defaults to \"UTF-8\"\n",
      " |  :param verbose:    When True, print XML-RPC debugging messages to stdout\n",
      " |  :param timeout: Specify a timeout for xmlrpc connection\n",
      " |    requests.  If not specified, the global default socket timeout\n",
      " |    value will be used.\n",
      " |  :param keep_alive: Optional parameter, to disable requests built-in\n",
      " |    session handling;  can also be configured in django settings\n",
      " |    with EXISTDB_SESSION_KEEP_ALIVE\n",
      " |  \n",
      " |  Methods defined here:\n",
      " |  \n",
      " |  __init__(self, server_url=None, username=None, password=None, resultType=None, encoding='UTF-8', verbose=False, keep_alive=None, timeout=<object object at 0x7ffd68374790>)\n",
      " |      Initialize self.  See help(type(self)) for accurate signature.\n",
      " |  \n",
      " |  createCollection(self, collection_name, overwrite=False)\n",
      " |      Create a new collection in the database.\n",
      " |      \n",
      " |      :param collection_name: string name of collection\n",
      " |      :param overwrite: overwrite existing document?\n",
      " |      :rtype: boolean indicating success\n",
      " |  \n",
      " |  create_account(self, username, password, groups)\n",
      " |      Create a user account; returns true if the user was created,\n",
      " |      false if the user already exists.  Any other exist exception\n",
      " |      is re-raised.\n",
      " |  \n",
      " |  create_group(self, group)\n",
      " |      Create a group; returns true if the group was created,\n",
      " |      false if the group already exists.  Any other exist exception\n",
      " |      is re-raised.\n",
      " |  \n",
      " |  describeDocument(self, document_path)\n",
      " |      Return information about a document in eXist.\n",
      " |      Includes name, owner, group, created date, permissions, mime-type,\n",
      " |      type, content-length.\n",
      " |      Returns an empty dictionary if document is not found.\n",
      " |      \n",
      " |      :param document_path: string full path to document in eXist\n",
      " |      :rtype: dictionary\n",
      " |  \n",
      " |  executeQuery(self, xquery)\n",
      " |      Execute an XQuery query, returning a server-provided result\n",
      " |      handle.\n",
      " |      \n",
      " |      :param xquery: a string XQuery query\n",
      " |      :rtype: an integer handle identifying the query result for future calls\n",
      " |  \n",
      " |  getCollectionDescription(self, collection_name)\n",
      " |      Retrieve information about a collection.\n",
      " |      \n",
      " |      :param collection_name: string name of collection\n",
      " |      :rtype: boolean\n",
      " |  \n",
      " |  getDoc(self, name)\n",
      " |      Alias for :meth:`getDocument`.\n",
      " |  \n",
      " |  getDocument(self, name)\n",
      " |      Retrieve a document from the database.\n",
      " |      \n",
      " |      :param name: database document path to retrieve\n",
      " |      :rtype: string contents of the document\n",
      " |  \n",
      " |  getHits(self, result_id)\n",
      " |      Get the number of hits in a query result.\n",
      " |      \n",
      " |      :param result_id: an integer handle returned by :meth:`executeQuery`\n",
      " |      :rtype: integer representing the number of hits\n",
      " |  \n",
      " |  getPermissions(self, resource)\n",
      " |      Retrieve permissions for a resource in eXist.\n",
      " |      \n",
      " |      :param resource: full path to a collection or document in eXist\n",
      " |      :rtype: ExistPermissions\n",
      " |  \n",
      " |  hasCollection(self, collection_name)\n",
      " |      Check if a collection exists.\n",
      " |      \n",
      " |      :param collection_name: string name of collection\n",
      " |      :rtype: boolean\n",
      " |  \n",
      " |  hasCollectionIndex(self, collection_name)\n",
      " |      Check if the specified collection has an index configuration in eXist.\n",
      " |      \n",
      " |      Note: according to eXist documentation, index config file does not *have*\n",
      " |      to be named *collection.xconf* for reasons of backward compatibility.\n",
      " |      This function assumes that the recommended naming conventions are followed.\n",
      " |      \n",
      " |      :param collection: name of the collection with an index to be removed\n",
      " |      :rtype: boolean indicating collection index is present\n",
      " |  \n",
      " |  hasDocument(self, document_path)\n",
      " |      Check if a document is present in eXist.\n",
      " |      \n",
      " |      :param document_path: string full path to document in eXist\n",
      " |      :rtype: boolean\n",
      " |  \n",
      " |  load(self, xml, path)\n",
      " |      Insert or overwrite a document in the database.\n",
      " |      \n",
      " |      .. Note::\n",
      " |      \n",
      " |          This method will automatically overwrite existing content\n",
      " |          at the same path without notice.  This is a change from\n",
      " |          versions prior to 0.20.\n",
      " |      \n",
      " |      :param xml: string or file object with the document contents\n",
      " |      :param path: destination location in the database\n",
      " |      :rtype: boolean indicating success\n",
      " |  \n",
      " |  loadCollectionIndex(self, collection_name, index)\n",
      " |      Load an index configuration for the specified collection.\n",
      " |      Creates the eXist system config collection if it is not already there,\n",
      " |      and loads the specified index config file, as per eXist collection and\n",
      " |      index naming conventions.\n",
      " |      \n",
      " |      :param collection_name: name of the collection to be indexed\n",
      " |      :param index: string or file object with the document contents (as used by :meth:`load`)\n",
      " |      :rtype: boolean indicating success\n",
      " |  \n",
      " |  moveDocument(self, from_collection, to_collection, document)\n",
      " |      Move a document in eXist from one collection to another.\n",
      " |      \n",
      " |      :param from_collection: collection where the document currently exists\n",
      " |      :param to_collection: collection where the document should be moved\n",
      " |      :param document: name of the document in eXist\n",
      " |      :rtype: boolean\n",
      " |  \n",
      " |  query(self, xquery=None, start=1, how_many=10, cache=False, session=None, release=None, result_type=None)\n",
      " |      Execute an XQuery query, returning the results directly.\n",
      " |      \n",
      " |      :param xquery: a string XQuery query\n",
      " |      :param start: first index to return (1-based)\n",
      " |      :param how_many: maximum number of items to return\n",
      " |      :param cache: boolean, to cache a query and return a session id (optional)\n",
      " |      :param session: session id, to retrieve a cached session (optional)\n",
      " |      :param release: session id to be released (optional)\n",
      " |      :rtype: the resultType specified at the creation of this ExistDB;\n",
      " |              defaults to :class:`QueryResult`.\n",
      " |  \n",
      " |  querySummary(self, result_id)\n",
      " |      Retrieve results summary from a past query.\n",
      " |      \n",
      " |      :param result_id: an integer handle returned by :meth:`executeQuery`\n",
      " |      :rtype: a dict describing the results\n",
      " |      \n",
      " |      The returned dict has four fields:\n",
      " |      \n",
      " |       * *queryTime*: processing time in milliseconds\n",
      " |      \n",
      " |       * *hits*: number of hits in the result set\n",
      " |      \n",
      " |       * *documents*: a list of lists. Each identifies a document and\n",
      " |         takes the form [`doc_id`, `doc_name`, `hits`], where:\n",
      " |      \n",
      " |           * *doc_id*: an internal integer identifier for the document\n",
      " |           * *doc_name*: the name of the document as a string\n",
      " |           * *hits*: the number of hits within that document\n",
      " |      \n",
      " |       * *doctype*: a list of lists. Each contains a doctype public\n",
      " |                    identifier and the number of hits found for this\n",
      " |                    doctype.\n",
      " |  \n",
      " |  reindexCollection(self, collection_name)\n",
      " |      Reindex a collection.\n",
      " |      Reindex will fail if the eXist user does not have the correct permissions\n",
      " |      within eXist (must be a member of the DBA group).\n",
      " |      \n",
      " |      :param collection_name: string name of collection\n",
      " |      :rtype: boolean success\n",
      " |  \n",
      " |  releaseQueryResult(self, result_id)\n",
      " |      Release a result set handle in the server.\n",
      " |      \n",
      " |      :param result_id: an integer handle returned by :meth:`executeQuery`\n",
      " |  \n",
      " |  removeCollection(self, collection_name)\n",
      " |      Remove the named collection from the database.\n",
      " |      \n",
      " |      :param collection_name: string name of collection\n",
      " |      :rtype: boolean indicating success\n",
      " |  \n",
      " |  removeCollectionIndex(self, collection_name)\n",
      " |      Remove index configuration for the specified collection.\n",
      " |      If index collection has no documents or subcollections after the index\n",
      " |      file is removed, the configuration collection will also be removed.\n",
      " |      \n",
      " |      :param collection: name of the collection with an index to be removed\n",
      " |      :rtype: boolean indicating success\n",
      " |  \n",
      " |  removeDocument(self, name)\n",
      " |      Remove a document from the database.\n",
      " |      \n",
      " |      :param name: full eXist path to the database document to be removed\n",
      " |      :rtype: boolean indicating success\n",
      " |  \n",
      " |  restapi_path(self, path)\n",
      " |  \n",
      " |  retrieve(self, result_id, position, highlight=False, **options)\n",
      " |      Retrieve a single result fragment.\n",
      " |      \n",
      " |      :param result_id: an integer handle returned by :meth:`executeQuery`\n",
      " |      :param position: the result index to return\n",
      " |      :param highlight: enable search term highlighting in result; optional,\n",
      " |          defaults to False\n",
      " |      :return: the query result item as a string or XMLRPC Binary\n",
      " |      :rtype: string | xmlrpc.client.Binary\n",
      " |  \n",
      " |  retrieve_text(self, result_id, position, highlight=False, **options)\n",
      " |      Retrieve a single result fragment, making sure it is returned as text.\n",
      " |      \n",
      " |      :param result_id: an integer handle returned by :meth:`executeQuery`\n",
      " |      :param position: the result index to return\n",
      " |      :param highlight: enable search term highlighting in result; optional,\n",
      " |          defaults to False\n",
      " |      :return: the query result item as a string\n",
      " |      :rtype: string\n",
      " |      \n",
      " |      This function fixes an inconvenience with the original retrieve function. In some cases eXist-db returns\n",
      " |      base64 encoded strings, and xmlrpc thinks the response is binary, leaving the decoding to the caller.\n",
      " |      retrieve_text always decodes binaries to strings based on the default encoding.\n",
      " |  \n",
      " |  setPermissions(self, resource, permissions)\n",
      " |      Set permissions on a resource in eXist.\n",
      " |      \n",
      " |      :param resource: full path to a collection or document in eXist\n",
      " |      :param permissions: int or string permissions statement\n",
      " |  \n",
      " |  ----------------------------------------------------------------------\n",
      " |  Data descriptors defined here:\n",
      " |  \n",
      " |  __dict__\n",
      " |      dictionary for instance variables (if defined)\n",
      " |  \n",
      " |  __weakref__\n",
      " |      list of weak references to the object (if defined)\n",
      " |  \n",
      " |  ----------------------------------------------------------------------\n",
      " |  Data and other attributes defined here:\n",
      " |  \n",
      " |  DEFAULT_TIMEOUT = <object object>\n",
      " |  \n",
      " |  exist_url = None\n",
      " |  \n",
      " |  password = None\n",
      " |  \n",
      " |  username = None\n",
      "\n"
     ]
    }
   ],
   "source": [
    "help(ExistDB)"
   ]
  },
  {
   "cell_type": "markdown",
   "metadata": {},
   "source": [
    "## Retrieve a resource (XML file)\n",
    "\n",
    "If the document contains a processing instruction for an XSLT transformation, as is the case with *Hamlet* in the demo apps, the result *after( the transformation is returned. See below for accessing the raw XML."
   ]
  },
  {
   "cell_type": "code",
   "execution_count": 5,
   "metadata": {},
   "outputs": [
    {
     "name": "stdout",
     "output_type": "stream",
     "text": [
      "b'<?xml version=\"1.0\" encoding=\"UTF-8\"?>\\n<div xmlns:exist=\"http://exist.sourceforge.net/NS/exist\">\\n    <h1>The Tragedy of Hamlet, Prince of Denmark</h1>\\n    <h3><em>HAMLET</em></h3>\\n    <blockquote>\\n        <tt>ASCII text placed in the public domain by Moby Lexical Tools, 1992.</tt><br />\\n        <tt>SGML markup by Jon Bosak, 1992-1994.</tt><br />\\n        <tt>XML version by Jon Bosak, 1996-1999.</tt><br />\\n        <tt>The XML markup in this version is Copyright \\xc2\\xa9 1999 Jon Bosak.\\nThis work may freely be distributed on condition that it not be\\nmodified or altered in any way.</tt><br />\\n    </blockquote>\\n    <p><b>Table of Contents</b></p>\\n    <ul>\\n        <li><a href=\"#d14e18\">Dramatis Personae</a></li>\\n        <ul></ul>\\n        <li><a href=\"#d14e94\">ACT I</a></li>\\n        <ul>\\n            <li><a href=\"#d14e98\">SCENE I.  Elsinore. A platform before the castle.</a></li>\\n            <li><a href=\"#d14e828\">SCENE II.  A room of state in the castle.</a></li>\\n            <li><a href=\"#d14e1825\"'\n"
     ]
    },
    {
     "data": {
      "text/plain": [
       "bytes"
      ]
     },
     "execution_count": 5,
     "metadata": {},
     "output_type": "execute_result"
    }
   ],
   "source": [
    "hamlet = test.getDocument('apps/demo/data/hamlet.xml')\n",
    "print(hamlet[:1000])\n",
    "type(hamlet)"
   ]
  },
  {
   "cell_type": "markdown",
   "metadata": {},
   "source": [
    "## To render HTML instead of bytes, use the IPython package"
   ]
  },
  {
   "cell_type": "code",
   "execution_count": 6,
   "metadata": {},
   "outputs": [],
   "source": [
    "from IPython.display import HTML"
   ]
  },
  {
   "cell_type": "code",
   "execution_count": null,
   "metadata": {},
   "outputs": [],
   "source": [
    "HTML(hamlet.decode('UTF-8'))"
   ]
  },
  {
   "cell_type": "markdown",
   "metadata": {},
   "source": [
    "## To query a document or collection in the database"
   ]
  },
  {
   "cell_type": "markdown",
   "metadata": {},
   "source": [
    "### Simple XPath path expression"
   ]
  },
  {
   "cell_type": "code",
   "execution_count": 7,
   "metadata": {},
   "outputs": [
    {
     "data": {
      "text/plain": [
       "<Element SPEECH at 0x7ffd7838fdc8>"
      ]
     },
     "execution_count": 7,
     "metadata": {},
     "output_type": "execute_result"
    }
   ],
   "source": [
    "q = '''\n",
    "doc('apps/demo/data/hamlet.xml')/descendant::SPEECH\n",
    "'''\n",
    "first_speech = test.query(q).results[0]\n",
    "first_speech"
   ]
  },
  {
   "cell_type": "markdown",
   "metadata": {},
   "source": [
    "Uh oh. It’s an *lxml* element. Better import:"
   ]
  },
  {
   "cell_type": "code",
   "execution_count": 8,
   "metadata": {},
   "outputs": [],
   "source": [
    "from lxml.etree import tostring"
   ]
  },
  {
   "cell_type": "code",
   "execution_count": 9,
   "metadata": {},
   "outputs": [
    {
     "data": {
      "text/plain": [
       "b'<SPEECH xmlns:exist=\"http://exist.sourceforge.net/NS/exist\">\\n                <SPEAKER>BERNARDO</SPEAKER>\\n                <LINE>Who\\'s there?</LINE>\\n            </SPEECH>\\n    '"
      ]
     },
     "execution_count": 9,
     "metadata": {},
     "output_type": "execute_result"
    }
   ],
   "source": [
    "tostring(first_speech)"
   ]
  },
  {
   "cell_type": "markdown",
   "metadata": {},
   "source": [
    "### XQuery FLWOR\n",
    "\n",
    "#### Run the query\n",
    "\n",
    "By default the `query()` method returns the first 10 results. We’ll leave that default in place for now. `query()` returns a `queryResult` object, whose `results` attribute contains a list of all (that is, the first 10) results."
   ]
  },
  {
   "cell_type": "code",
   "execution_count": 10,
   "metadata": {},
   "outputs": [
    {
     "name": "stdout",
     "output_type": "stream",
     "text": [
      "The type of the result is <class 'pyexistdb.db.QueryResult'>\n",
      "There are 10 results\n"
     ]
    }
   ],
   "source": [
    "q = '''\n",
    "let $ham := doc('apps/demo/data/hamlet.xml')\n",
    "let $speakers := distinct-values($ham/descendant::SPEAKER)\n",
    "for $speaker in $speakers\n",
    "order by $speaker\n",
    "return <speaker>{$speaker}</speaker>\n",
    "'''\n",
    "all_speakers = test.query(q)\n",
    "print('The type of the result is', type(all_speakers))\n",
    "print('There are', all_speakers.count, 'results')"
   ]
  },
  {
   "cell_type": "markdown",
   "metadata": {},
   "source": [
    "#### Output the results"
   ]
  },
  {
   "cell_type": "code",
   "execution_count": 11,
   "metadata": {},
   "outputs": [
    {
     "name": "stdout",
     "output_type": "stream",
     "text": [
      "b'<speaker xmlns:exist=\"http://exist.sourceforge.net/NS/exist\">All</speaker>\\n    '\n",
      "b'<speaker xmlns:exist=\"http://exist.sourceforge.net/NS/exist\">BERNARDO</speaker>\\n    '\n",
      "b'<speaker xmlns:exist=\"http://exist.sourceforge.net/NS/exist\">CORNELIUS</speaker>\\n    '\n",
      "b'<speaker xmlns:exist=\"http://exist.sourceforge.net/NS/exist\">Captain</speaker>\\n    '\n",
      "b'<speaker xmlns:exist=\"http://exist.sourceforge.net/NS/exist\">Danes</speaker>\\n    '\n",
      "b'<speaker xmlns:exist=\"http://exist.sourceforge.net/NS/exist\">FRANCISCO</speaker>\\n    '\n",
      "b'<speaker xmlns:exist=\"http://exist.sourceforge.net/NS/exist\">First Ambassador</speaker>\\n    '\n",
      "b'<speaker xmlns:exist=\"http://exist.sourceforge.net/NS/exist\">First Clown</speaker>\\n    '\n",
      "b'<speaker xmlns:exist=\"http://exist.sourceforge.net/NS/exist\">First Player</speaker>\\n    '\n",
      "b'<speaker xmlns:exist=\"http://exist.sourceforge.net/NS/exist\">First Priest</speaker>\\n'\n"
     ]
    }
   ],
   "source": [
    "for i in all_speakers.results:\n",
    "    print(tostring(i))"
   ]
  },
  {
   "cell_type": "markdown",
   "metadata": {},
   "source": [
    "### Passing parameters to a script within the database\n",
    "\n",
    "eXist-db can store queries inside the database (stored procedure) and execute them with parameters supplied at run time. So far we haven’t found a way to pass parameters into a stored procedure using XML-RPC. Inquiry on eXist-open 2019-12-22."
   ]
  }
 ],
 "metadata": {
  "kernelspec": {
   "display_name": "Python 3",
   "language": "python",
   "name": "python3"
  },
  "language_info": {
   "codemirror_mode": {
    "name": "ipython",
    "version": 3
   },
   "file_extension": ".py",
   "mimetype": "text/x-python",
   "name": "python",
   "nbconvert_exporter": "python",
   "pygments_lexer": "ipython3",
   "version": "3.7.3"
  }
 },
 "nbformat": 4,
 "nbformat_minor": 2
}
