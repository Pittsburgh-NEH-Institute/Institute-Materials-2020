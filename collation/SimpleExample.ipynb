{
 "cells": [
  {
   "cell_type": "code",
   "execution_count": null,
   "id": "5a639b5d-6ed3-4c6a-92e3-bbd5dd96cbf5",
   "metadata": {},
   "outputs": [],
   "source": [
    "print(\"Hello world\")\n"
   ]
  },
  {
   "cell_type": "code",
   "execution_count": null,
   "id": "428b559e-fbdf-4ab5-85f2-1d1379f88306",
   "metadata": {},
   "outputs": [],
   "source": [
    "from collatex import *\n"
   ]
  },
  {
   "cell_type": "code",
   "execution_count": null,
   "id": "58256ef0-6f3d-46b8-9dee-3066719d6940",
   "metadata": {},
   "outputs": [],
   "source": [
    "collation = Collation()\n"
   ]
  },
  {
   "cell_type": "code",
   "execution_count": null,
   "id": "3057c014-028a-46a3-9235-072718da1b21",
   "metadata": {},
   "outputs": [],
   "source": [
    "collation.add_plain_witness( \"A\", \"The quick brown fox jumped over the lazy dog.\")\n",
    "collation.add_plain_witness( \"B\", \"The brown fox jumped over the dog.\" )\n",
    "collation.add_plain_witness( \"C\", \"The bad fox jumped over the lazy dog.\" )"
   ]
  },
  {
   "cell_type": "code",
   "execution_count": null,
   "id": "855ce6fa-2c7f-43d4-b99c-89f4e531c58c",
   "metadata": {},
   "outputs": [],
   "source": [
    "alignment_table = collate(collation, layout='vertical', segmentation=False )"
   ]
  },
  {
   "cell_type": "code",
   "execution_count": null,
   "id": "a3abbafd-80ee-4ba6-9bb2-0795a8f6e210",
   "metadata": {},
   "outputs": [],
   "source": [
    "print (alignment_table)"
   ]
  },
  {
   "cell_type": "code",
   "execution_count": null,
   "id": "6b9c54d6-296a-4fbd-9204-163e6534e06c",
   "metadata": {},
   "outputs": [],
   "source": [
    "collate(collation, layout='vertical', output='html')\n"
   ]
  },
  {
   "cell_type": "code",
   "execution_count": null,
   "id": "9e96796d-fc0e-41a3-97b0-b889da378c69",
   "metadata": {},
   "outputs": [],
   "source": [
    "collate(collation, output='html')\n"
   ]
  },
  {
   "cell_type": "code",
   "execution_count": null,
   "id": "8a4f715b-4d98-4692-9dee-e148520bc5eb",
   "metadata": {},
   "outputs": [],
   "source": [
    "collate(collation, output='json')\n"
   ]
  },
  {
   "cell_type": "code",
   "execution_count": null,
   "id": "dcb9124f-a661-4766-8817-93cc0379dc5e",
   "metadata": {},
   "outputs": [],
   "source": []
  }
 ],
 "metadata": {
  "kernelspec": {
   "display_name": "Python 3 (ipykernel)",
   "language": "python",
   "name": "python3"
  },
  "language_info": {
   "codemirror_mode": {
    "name": "ipython",
    "version": 3
   },
   "file_extension": ".py",
   "mimetype": "text/x-python",
   "name": "python",
   "nbconvert_exporter": "python",
   "pygments_lexer": "ipython3",
   "version": "3.9.2"
  }
 },
 "nbformat": 4,
 "nbformat_minor": 5
}
