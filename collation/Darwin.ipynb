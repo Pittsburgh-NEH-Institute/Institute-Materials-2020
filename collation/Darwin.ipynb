{
 "cells": [
  {
   "cell_type": "code",
   "execution_count": null,
   "id": "3cdb9f8a-9ac6-4c6f-8f3e-5d616b77111f",
   "metadata": {},
   "outputs": [],
   "source": [
    "from collatex import *"
   ]
  },
  {
   "cell_type": "code",
   "execution_count": null,
   "id": "9f9adcbb-949a-4945-bbc5-72eaed6455aa",
   "metadata": {},
   "outputs": [],
   "source": [
    "witness_1859 = open( \"./fixtures/Darwin/txt/darwin1859_par1.txt\", encoding='utf-8' ).read()\n",
    "witness_1860 = open( \"./fixtures/Darwin/txt/darwin1860_par1.txt\", encoding='utf-8' ).read()\n",
    "witness_1861 = open( \"./fixtures/Darwin/txt/darwin1861_par1.txt\", encoding='utf-8' ).read()\n",
    "witness_1866 = open( \"./fixtures/Darwin/txt/darwin1866_par1.txt\", encoding='utf-8' ).read()\n",
    "witness_1869 = open( \"./fixtures/Darwin/txt/darwin1869_par1.txt\", encoding='utf-8' ).read()\n",
    "witness_1872 = open( \"./fixtures/Darwin/txt/darwin1872_par1.txt\", encoding='utf-8' ).read()\n"
   ]
  },
  {
   "cell_type": "code",
   "execution_count": null,
   "id": "35691100-9025-470e-addf-d35fa65654a6",
   "metadata": {},
   "outputs": [],
   "source": [
    "print(witness_1859)"
   ]
  },
  {
   "cell_type": "code",
   "execution_count": null,
   "id": "b499fe6f-1117-4ee3-9cbf-2e681dc23aef",
   "metadata": {},
   "outputs": [],
   "source": [
    "print(witness_1869)"
   ]
  },
  {
   "cell_type": "code",
   "execution_count": null,
   "id": "884f91be-a37f-4aff-a0e1-fef01c2763ad",
   "metadata": {},
   "outputs": [],
   "source": [
    "collation = Collation()"
   ]
  },
  {
   "cell_type": "code",
   "execution_count": null,
   "id": "99c8a4e0-3dfe-4284-985d-1983a196ed73",
   "metadata": {},
   "outputs": [],
   "source": [
    "collation.add_plain_witness( \"1859\", witness_1859 )\n",
    "collation.add_plain_witness( \"1860\", witness_1860 )\n",
    "collation.add_plain_witness( \"1861\", witness_1861 )\n",
    "collation.add_plain_witness( \"1866\", witness_1866 )\n",
    "collation.add_plain_witness( \"1869\", witness_1869 )\n",
    "collation.add_plain_witness( \"1872\", witness_1872 )"
   ]
  },
  {
   "cell_type": "code",
   "execution_count": null,
   "id": "9c605ebb-e3f3-4bab-8462-e5b90a57c492",
   "metadata": {},
   "outputs": [],
   "source": [
    "collate(collation, layout='vertical', output='html')\n"
   ]
  },
  {
   "cell_type": "code",
   "execution_count": null,
   "id": "c5003844-2a3d-4877-bbb3-71429f6c70a4",
   "metadata": {},
   "outputs": [],
   "source": []
  }
 ],
 "metadata": {
  "kernelspec": {
   "display_name": "Python 3 (ipykernel)",
   "language": "python",
   "name": "python3"
  },
  "language_info": {
   "codemirror_mode": {
    "name": "ipython",
    "version": 3
   },
   "file_extension": ".py",
   "mimetype": "text/x-python",
   "name": "python",
   "nbconvert_exporter": "python",
   "pygments_lexer": "ipython3",
   "version": "3.9.2"
  }
 },
 "nbformat": 4,
 "nbformat_minor": 5
}
